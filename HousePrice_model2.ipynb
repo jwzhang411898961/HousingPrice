{
 "cells": [
  {
   "cell_type": "markdown",
   "metadata": {},
   "source": [
    "## house_price_notcomplete"
   ]
  },
  {
   "cell_type": "code",
   "execution_count": 2,
   "metadata": {},
   "outputs": [
    {
     "name": "stdout",
     "output_type": "stream",
     "text": [
      "HousePrice_features.ipynb\n",
      "HousePrice_model1.ipynb\n",
      "HousePrice_model1_advanced.ipynb\n",
      "HousePrice_model2.ipynb\n",
      "data_description.txt\n",
      "sample_submission.csv\n",
      "submission1.csv\n",
      "test.csv\n",
      "train.csv\n",
      "\n"
     ]
    }
   ],
   "source": [
    "import numpy as np\n",
    "import pandas as pd\n",
    "\n",
    "from subprocess import check_output\n",
    "print(check_output(['ls', '/Users/jingweizhang/Dropbox/DataScience/Kaggle/HousingPrice']).decode(\"utf8\"))"
   ]
  },
  {
   "cell_type": "code",
   "execution_count": 3,
   "metadata": {},
   "outputs": [
    {
     "name": "stderr",
     "output_type": "stream",
     "text": [
      "/anaconda3/lib/python3.6/site-packages/sklearn/cross_validation.py:41: DeprecationWarning: This module was deprecated in version 0.18 in favor of the model_selection module into which all the refactored classes and functions are moved. Also note that the interface of the new CV iterators are different from that of this module. This module will be removed in 0.20.\n",
      "  \"This module will be removed in 0.20.\", DeprecationWarning)\n",
      "/anaconda3/lib/python3.6/site-packages/sklearn/grid_search.py:42: DeprecationWarning: This module was deprecated in version 0.18 in favor of the model_selection module into which all the refactored classes and functions are moved. This module will be removed in 0.20.\n",
      "  DeprecationWarning)\n"
     ]
    }
   ],
   "source": [
    "import matplotlib.pyplot as plt\n",
    "\n",
    "from sklearn.linear_model import Lasso\n",
    "from sklearn.ensemble import RandomForestRegressor\n",
    "from sklearn.ensemble import GradientBoostingRegressor\n",
    "from sklearn.grid_search import GridSearchCV\n",
    "from sklearn.ensemble import GradientBoostingRegressor"
   ]
  },
  {
   "cell_type": "code",
   "execution_count": 4,
   "metadata": {
    "collapsed": true
   },
   "outputs": [],
   "source": [
    "mac_path = '/Users/jingweizhang/Dropbox/DataScience/Kaggle/HousingPrice'\n",
    "train_data = pd.read_csv(mac_path + '/train.csv')\n",
    "test_data = pd.read_csv(mac_path + '/test.csv')"
   ]
  },
  {
   "cell_type": "code",
   "execution_count": 9,
   "metadata": {
    "collapsed": true
   },
   "outputs": [],
   "source": [
    "# 定义若干个对数据进行清理的函数，这些函数主要作用在pandas的DataFrame数据类型上\n",
    "\n",
    "# 查看数据集属性值得确实情况\n",
    "def show_missing(houseprice):\n",
    "    missing = houseprice.columns[houseprice.isnull().any()].tolist()\n",
    "    return missing\n",
    "\n",
    "# 查看 categorical 特征的值情况\n",
    "def cat_exploration(houseprice, column):\n",
    "    print(houseprice[column].value_counts())\n",
    "    \n",
    "# 对数据集中某一列的缺失值进行tia\n",
    "def cat_imputation(houseprice, column, value):\n",
    "    houseprice.loc[houseprice[column].isnull(), column] = value"
   ]
  },
  {
   "cell_type": "code",
   "execution_count": 10,
   "metadata": {},
   "outputs": [
    {
     "name": "stderr",
     "output_type": "stream",
     "text": [
      "/anaconda3/lib/python3.6/site-packages/ipykernel_launcher.py:7: SettingWithCopyWarning: \n",
      "A value is trying to be set on a copy of a slice from a DataFrame\n",
      "\n",
      "See the caveats in the documentation: http://pandas.pydata.org/pandas-docs/stable/indexing.html#indexing-view-versus-copy\n",
      "  import sys\n",
      "/anaconda3/lib/python3.6/site-packages/ipykernel_launcher.py:9: SettingWithCopyWarning: \n",
      "A value is trying to be set on a copy of a slice from a DataFrame\n",
      "\n",
      "See the caveats in the documentation: http://pandas.pydata.org/pandas-docs/stable/indexing.html#indexing-view-versus-copy\n",
      "  if __name__ == '__main__':\n"
     ]
    }
   ],
   "source": [
    "import sys\n",
    "\n",
    "test_data['SqrtLotArea'] = np.sqrt(test_data['LotArea'])\n",
    "train_data['SqrtLotArea'] = np.sqrt(train_data['LotArea'])\n",
    "\n",
    "cond = test_data['LotFrontage'].isnull()\n",
    "test_data.LotFrontage[cond] = test_data.SqrtLotArea[cond]\n",
    "cond = train_data['LotFrontage'].isnull()\n",
    "train_data.LotFrontage[cond] = train_data.SqrtLotArea[cond]\n",
    "\n",
    "del test_data['SqrtLotArea'], train_data['SqrtLotArea']"
   ]
  },
  {
   "cell_type": "code",
   "execution_count": 11,
   "metadata": {
    "collapsed": true
   },
   "outputs": [],
   "source": [
    "test_data.loc[test_data['MSSubClass'] == 20, 'MSZoning'] = 'RL'\n",
    "test_data.loc[test_data['MSSubClass'] == 30, 'MSZoning'] = 'RM'\n",
    "test_data.loc[test_data['MSSubClass'] == 70, 'MSZoning'] = 'RM'"
   ]
  },
  {
   "cell_type": "code",
   "execution_count": 12,
   "metadata": {
    "collapsed": true
   },
   "outputs": [],
   "source": [
    "cat_imputation(test_data, 'Alley', 'None')\n",
    "cat_imputation(train_data, 'Alley', 'None')"
   ]
  },
  {
   "cell_type": "code",
   "execution_count": 13,
   "metadata": {
    "collapsed": true
   },
   "outputs": [],
   "source": [
    "test_data = test_data.drop(['Utilities'], axis=1)\n",
    "train_data = train_data.drop(['Utilities'], axis=1)"
   ]
  },
  {
   "cell_type": "code",
   "execution_count": 14,
   "metadata": {
    "collapsed": true
   },
   "outputs": [],
   "source": [
    "test_data.loc[test_data['Exterior1st'].isnull(), 'Exterior1st'] = 'VinylSd'\n",
    "test_data.loc[test_data['Exterior2nd'].isnull(), 'Exterior2nd'] = 'VinylSd'"
   ]
  },
  {
   "cell_type": "code",
   "execution_count": 15,
   "metadata": {
    "collapsed": true
   },
   "outputs": [],
   "source": [
    "cat_imputation(test_data, 'MasVnrType', 'None')\n",
    "cat_imputation(train_data, 'MasVnrType', 'None')\n",
    "cat_imputation(test_data, 'MasVnrArea', 0.0)\n",
    "cat_imputation(train_data, 'MasVnrArea', 0.0)"
   ]
  },
  {
   "cell_type": "code",
   "execution_count": 16,
   "metadata": {
    "collapsed": true
   },
   "outputs": [],
   "source": [
    "# basement\n",
    "# train\n",
    "basement_cols = ['BsmtQual', 'BsmtCond', 'BsmtExposure', 'BsmtFinType1', 'BsmtFinType2', 'BsmtFinSF1', 'BsmtFinSF2']\n",
    "# print(train_data[basement_cols][train_data['BsmtQual'].isnull() == True])\n",
    "for cols in basement_cols:\n",
    "    if 'FinFS' not in cols:\n",
    "        cat_imputation(train_data, cols, 'None')\n",
    "\n",
    "# test\n",
    "basement_cols = ['Id', 'BsmtQual', 'BsmtCond', 'BsmtExposure', 'BsmtFinType1', 'BsmtFinType2']"
   ]
  },
  {
   "cell_type": "code",
   "execution_count": 17,
   "metadata": {
    "collapsed": true
   },
   "outputs": [],
   "source": [
    "test_data.loc[test_data['Id'] == 580, 'BsmtCond'] = 'TA'\n",
    "test_data.loc[test_data['Id'] == 725, 'BsmtCond'] = 'TA'\n",
    "test_data.loc[test_data['Id'] == 1064, 'BsmtCond'] = 'TA'\n",
    "# 除了上述三行之外, 其他行的NaN都是一样的\n",
    "for cols in basement_cols:\n",
    "    if cols not in 'SF' and cols not in 'Bath':\n",
    "        test_data.loc[test_data['BsmtFinSF1'] == 0.0, cols] = 'None'\n",
    "for cols in basement_cols:\n",
    "    if test_data[cols].dtype == np.object:\n",
    "        cat_imputation(test_data, cols, 'None')\n",
    "    else:\n",
    "        cat_imputation(test_data, cols, 0.0)\n",
    "cat_imputation(test_data, 'BsmtFinSF1', '0')\n",
    "cat_imputation(test_data, 'BsmtFinSF2', '0')\n",
    "cat_imputation(test_data, 'BsmtUnfSF', '0')\n",
    "cat_imputation(test_data, 'TotalBsmtSF', '0')\n",
    "cat_imputation(test_data, 'BsmtFullBath', '0')\n",
    "cat_imputation(test_data, 'BsmtHalfBath', '0')"
   ]
  },
  {
   "cell_type": "code",
   "execution_count": null,
   "metadata": {
    "collapsed": true
   },
   "outputs": [],
   "source": []
  }
 ],
 "metadata": {
  "kernelspec": {
   "display_name": "Python 3",
   "language": "python",
   "name": "python3"
  },
  "language_info": {
   "codemirror_mode": {
    "name": "ipython",
    "version": 3
   },
   "file_extension": ".py",
   "mimetype": "text/x-python",
   "name": "python",
   "nbconvert_exporter": "python",
   "pygments_lexer": "ipython3",
   "version": "3.6.2"
  }
 },
 "nbformat": 4,
 "nbformat_minor": 2
}
